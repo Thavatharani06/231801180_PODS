{
  "nbformat": 4,
  "nbformat_minor": 0,
  "metadata": {
    "colab": {
      "provenance": [],
      "include_colab_link": true
    },
    "kernelspec": {
      "name": "python3",
      "display_name": "Python 3"
    },
    "language_info": {
      "name": "python"
    }
  },
  "cells": [
    {
      "cell_type": "markdown",
      "metadata": {
        "id": "view-in-github",
        "colab_type": "text"
      },
      "source": [
        "<a href=\"https://colab.research.google.com/github/Thavatharani06/231801180_PODS/blob/main/ex5(a).ipynb\" target=\"_parent\"><img src=\"https://colab.research.google.com/assets/colab-badge.svg\" alt=\"Open In Colab\"/></a>"
      ]
    },
    {
      "cell_type": "code",
      "execution_count": 1,
      "metadata": {
        "colab": {
          "base_uri": "https://localhost:8080/"
        },
        "id": "J_e1-DQKDaiV",
        "outputId": "b6c3735e-f303-417f-b38c-1d3410a2193f"
      },
      "outputs": [
        {
          "output_type": "stream",
          "name": "stderr",
          "text": [
            "[nltk_data] Downloading package punkt_tab to /root/nltk_data...\n",
            "[nltk_data]   Unzipping tokenizers/punkt_tab.zip.\n",
            "[nltk_data] Downloading package punkt to /root/nltk_data...\n",
            "[nltk_data]   Unzipping tokenizers/punkt.zip.\n",
            "[nltk_data] Downloading package stopwords to /root/nltk_data...\n",
            "[nltk_data]   Unzipping corpora/stopwords.zip.\n",
            "[nltk_data] Downloading package averaged_perceptron_tagger to\n",
            "[nltk_data]     /root/nltk_data...\n",
            "[nltk_data]   Unzipping taggers/averaged_perceptron_tagger.zip.\n",
            "[nltk_data] Downloading package maxent_ne_chunker to\n",
            "[nltk_data]     /root/nltk_data...\n",
            "[nltk_data]   Unzipping chunkers/maxent_ne_chunker.zip.\n",
            "[nltk_data] Downloading package words to /root/nltk_data...\n",
            "[nltk_data]   Unzipping corpora/words.zip.\n"
          ]
        },
        {
          "output_type": "stream",
          "name": "stdout",
          "text": [
            "Sample Review:\n",
            " I have bought several of the Vitality canned dog food products and have found them all to be of good quality. The product looks more like a stew than a processed meat and it smells better. My Labrador is finicky and she appreciates this product better than  most.\n"
          ]
        }
      ],
      "source": [
        "import pandas as pd\n",
        "import nltk\n",
        "import string\n",
        "from nltk.corpus import stopwords\n",
        "from nltk.tokenize import word_tokenize\n",
        "from nltk import pos_tag, ne_chunk\n",
        "\n",
        "\n",
        "nltk.download('punkt_tab')\n",
        "nltk.download('punkt')\n",
        "nltk.download('stopwords')\n",
        "nltk.download('averaged_perceptron_tagger')\n",
        "nltk.download('maxent_ne_chunker')\n",
        "nltk.download('words')\n",
        "\n",
        "df = pd.read_csv(\"Reviews.csv.zip\")\n",
        "\n",
        "reviews = df['Text']\n",
        "reviews = reviews.dropna()\n",
        "reviews = reviews[:10000]\n",
        "\n",
        "print(\"Sample Review:\\n\", reviews.iloc[0])\n"
      ]
    },
    {
      "cell_type": "code",
      "source": [
        "def preprocess(text):\n",
        "    text = text.lower()\n",
        "    text = text.translate(str.maketrans('', '', string.punctuation))\n",
        "    return text\n",
        "\n",
        "processed_reviews = reviews.apply(preprocess)\n",
        "print(\"After Preprocessing:\\n\", processed_reviews.iloc[0])\n"
      ],
      "metadata": {
        "id": "3CcqW5lOEFqX",
        "colab": {
          "base_uri": "https://localhost:8080/"
        },
        "outputId": "456922b6-7deb-47c0-e616-7dcc6d87b244"
      },
      "execution_count": 2,
      "outputs": [
        {
          "output_type": "stream",
          "name": "stdout",
          "text": [
            "After Preprocessing:\n",
            " i have bought several of the vitality canned dog food products and have found them all to be of good quality the product looks more like a stew than a processed meat and it smells better my labrador is finicky and she appreciates this product better than  most\n"
          ]
        }
      ]
    },
    {
      "cell_type": "code",
      "source": [
        "stop_words = set(stopwords.words('english'))\n",
        "\n",
        "def tokenize(text):\n",
        "    tokens = word_tokenize(text)\n",
        "    tokens = [w for w in tokens if w.isalpha()]\n",
        "    tokens = [w for w in tokens if w not in stop_words]\n",
        "    return tokens\n",
        "\n",
        "tokens = processed_reviews.apply(tokenize)\n",
        "print(\"Tokenized Sample:\\n\", tokens.iloc[0])\n"
      ],
      "metadata": {
        "id": "6hBnnhcPEJKN",
        "colab": {
          "base_uri": "https://localhost:8080/"
        },
        "outputId": "c34e9011-158b-42b6-9b8f-c8ae6bc08590"
      },
      "execution_count": 3,
      "outputs": [
        {
          "output_type": "stream",
          "name": "stdout",
          "text": [
            "Tokenized Sample:\n",
            " ['bought', 'several', 'vitality', 'canned', 'dog', 'food', 'products', 'found', 'good', 'quality', 'product', 'looks', 'like', 'stew', 'processed', 'meat', 'smells', 'better', 'labrador', 'finicky', 'appreciates', 'product', 'better']\n"
          ]
        }
      ]
    },
    {
      "cell_type": "code",
      "source": [
        "nltk.download('averaged_perceptron_tagger_eng')\n",
        "sample_tokens = tokens.iloc[0]\n",
        "pos_tags = pos_tag(sample_tokens)\n",
        "print(\"POS Tags:\\n\", pos_tags)\n"
      ],
      "metadata": {
        "id": "opPgmud-Eggq",
        "colab": {
          "base_uri": "https://localhost:8080/"
        },
        "outputId": "ff0e8967-c7f8-4e03-fbda-8d8bfc22bfe3"
      },
      "execution_count": 4,
      "outputs": [
        {
          "output_type": "stream",
          "name": "stderr",
          "text": [
            "[nltk_data] Downloading package averaged_perceptron_tagger_eng to\n",
            "[nltk_data]     /root/nltk_data...\n",
            "[nltk_data]   Unzipping taggers/averaged_perceptron_tagger_eng.zip.\n"
          ]
        },
        {
          "output_type": "stream",
          "name": "stdout",
          "text": [
            "POS Tags:\n",
            " [('bought', 'VBD'), ('several', 'JJ'), ('vitality', 'NN'), ('canned', 'VBD'), ('dog', 'JJ'), ('food', 'NN'), ('products', 'NNS'), ('found', 'VBD'), ('good', 'JJ'), ('quality', 'NN'), ('product', 'NN'), ('looks', 'VBZ'), ('like', 'IN'), ('stew', 'NN'), ('processed', 'VBN'), ('meat', 'NN'), ('smells', 'NNS'), ('better', 'RBR'), ('labrador', 'NN'), ('finicky', 'JJ'), ('appreciates', 'VBZ'), ('product', 'NN'), ('better', 'RBR')]\n"
          ]
        }
      ]
    },
    {
      "cell_type": "code",
      "source": [
        "nltk.download('maxent_ne_chunker_tab')\n",
        "ner_tree = ne_chunk(pos_tags)\n",
        "print(\"Named Entity Recognition (NER):\\n\", ner_tree)\n"
      ],
      "metadata": {
        "id": "cthzKh_BErvE",
        "colab": {
          "base_uri": "https://localhost:8080/"
        },
        "outputId": "365a0f3d-b40e-43bf-9935-4b8b2a901b83"
      },
      "execution_count": 5,
      "outputs": [
        {
          "output_type": "stream",
          "name": "stderr",
          "text": [
            "[nltk_data] Downloading package maxent_ne_chunker_tab to\n",
            "[nltk_data]     /root/nltk_data...\n",
            "[nltk_data]   Unzipping chunkers/maxent_ne_chunker_tab.zip.\n"
          ]
        },
        {
          "output_type": "stream",
          "name": "stdout",
          "text": [
            "Named Entity Recognition (NER):\n",
            " (S\n",
            "  bought/VBD\n",
            "  several/JJ\n",
            "  vitality/NN\n",
            "  canned/VBD\n",
            "  dog/JJ\n",
            "  food/NN\n",
            "  products/NNS\n",
            "  found/VBD\n",
            "  good/JJ\n",
            "  quality/NN\n",
            "  product/NN\n",
            "  looks/VBZ\n",
            "  like/IN\n",
            "  stew/NN\n",
            "  processed/VBN\n",
            "  meat/NN\n",
            "  smells/NNS\n",
            "  better/RBR\n",
            "  labrador/NN\n",
            "  finicky/JJ\n",
            "  appreciates/VBZ\n",
            "  product/NN\n",
            "  better/RBR)\n"
          ]
        }
      ]
    }
  ]
}