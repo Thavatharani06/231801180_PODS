{
  "nbformat": 4,
  "nbformat_minor": 0,
  "metadata": {
    "colab": {
      "provenance": [],
      "include_colab_link": true
    },
    "kernelspec": {
      "name": "python3",
      "display_name": "Python 3"
    },
    "language_info": {
      "name": "python"
    }
  },
  "cells": [
    {
      "cell_type": "markdown",
      "metadata": {
        "id": "view-in-github",
        "colab_type": "text"
      },
      "source": [
        "<a href=\"https://colab.research.google.com/github/Thavatharani06/231801180_PODS/blob/main/ex5(b).ipynb\" target=\"_parent\"><img src=\"https://colab.research.google.com/assets/colab-badge.svg\" alt=\"Open In Colab\"/></a>"
      ]
    },
    {
      "cell_type": "code",
      "execution_count": null,
      "metadata": {
        "colab": {
          "base_uri": "https://localhost:8080/"
        },
        "id": "ZPLoxRa1FdKN",
        "outputId": "ac43e390-4c13-4bbb-c85a-4e9b8f8910a9"
      },
      "outputs": [
        {
          "output_type": "stream",
          "name": "stdout",
          "text": [
            "Sample Review:\n",
            " I have bought several of the Vitality canned dog food products and have found them all to be of good quality. The product looks more like a stew than a processed meat and it smells better. My Labrador is finicky and she appreciates this product better than  most.\n"
          ]
        }
      ],
      "source": [
        "import pandas as pd\n",
        "import spacy\n",
        "import string\n",
        "\n",
        "nlp = spacy.load(\"en_core_web_sm\")\n",
        "df = pd.read_csv(\"Reviews.csv.zip\")\n",
        "reviews = df['Text']\n",
        "reviews = reviews.dropna()\n",
        "reviews = reviews[:10000]\n",
        "\n",
        "print(\"Sample Review:\\n\", reviews.iloc[0])\n"
      ]
    },
    {
      "cell_type": "code",
      "source": [
        "def preprocess(text):\n",
        "    text = text.lower()\n",
        "    text = text.translate(str.maketrans('', '', string.punctuation))\n",
        "    return text\n",
        "\n",
        "processed_reviews = reviews.apply(preprocess)\n",
        "print(\"After Preprocessing:\\n\", processed_reviews.iloc[0])\n"
      ],
      "metadata": {
        "colab": {
          "base_uri": "https://localhost:8080/"
        },
        "id": "TGSN24OBF9bi",
        "outputId": "1f94ae01-0852-48fb-9d51-0f987c489b19"
      },
      "execution_count": null,
      "outputs": [
        {
          "output_type": "stream",
          "name": "stdout",
          "text": [
            "After Preprocessing:\n",
            " i have bought several of the vitality canned dog food products and have found them all to be of good quality the product looks more like a stew than a processed meat and it smells better my labrador is finicky and she appreciates this product better than  most\n"
          ]
        }
      ]
    },
    {
      "cell_type": "code",
      "source": [
        "def tokenize(text):\n",
        "    doc = nlp(text)\n",
        "    tokens = [token.text for token in doc if token.is_alpha and not token.is_stop]\n",
        "    return tokens\n",
        "\n",
        "tokens = processed_reviews.apply(tokenize)\n",
        "print(\"Tokenized Sample:\\n\", tokens.iloc[0])\n"
      ],
      "metadata": {
        "colab": {
          "base_uri": "https://localhost:8080/"
        },
        "id": "e2_wx2D_GMDF",
        "outputId": "528ed3ed-1050-42aa-da41-4b76d6caf827"
      },
      "execution_count": null,
      "outputs": [
        {
          "output_type": "stream",
          "name": "stdout",
          "text": [
            "Tokenized Sample:\n",
            " ['bought', 'vitality', 'canned', 'dog', 'food', 'products', 'found', 'good', 'quality', 'product', 'looks', 'like', 'stew', 'processed', 'meat', 'smells', 'better', 'labrador', 'finicky', 'appreciates', 'product', 'better']\n"
          ]
        }
      ]
    },
    {
      "cell_type": "code",
      "source": [
        "doc = nlp(processed_reviews.iloc[0])\n",
        "pos_tags = [(token.text, token.pos_) for token in doc]\n",
        "print(\"POS Tags:\\n\", pos_tags)\n"
      ],
      "metadata": {
        "colab": {
          "base_uri": "https://localhost:8080/"
        },
        "id": "nPxVx-8PHL4t",
        "outputId": "1981111c-2a01-47bd-f478-c1619b2688b5"
      },
      "execution_count": null,
      "outputs": [
        {
          "output_type": "stream",
          "name": "stdout",
          "text": [
            "POS Tags:\n",
            " [('i', 'PRON'), ('have', 'AUX'), ('bought', 'VERB'), ('several', 'ADJ'), ('of', 'ADP'), ('the', 'DET'), ('vitality', 'NOUN'), ('canned', 'VERB'), ('dog', 'NOUN'), ('food', 'NOUN'), ('products', 'NOUN'), ('and', 'CCONJ'), ('have', 'AUX'), ('found', 'VERB'), ('them', 'PRON'), ('all', 'PRON'), ('to', 'PART'), ('be', 'AUX'), ('of', 'ADP'), ('good', 'ADJ'), ('quality', 'NOUN'), ('the', 'DET'), ('product', 'NOUN'), ('looks', 'VERB'), ('more', 'ADV'), ('like', 'ADP'), ('a', 'DET'), ('stew', 'NOUN'), ('than', 'ADP'), ('a', 'DET'), ('processed', 'VERB'), ('meat', 'NOUN'), ('and', 'CCONJ'), ('it', 'PRON'), ('smells', 'VERB'), ('better', 'ADJ'), ('my', 'PRON'), ('labrador', 'NOUN'), ('is', 'AUX'), ('finicky', 'ADJ'), ('and', 'CCONJ'), ('she', 'PRON'), ('appreciates', 'VERB'), ('this', 'DET'), ('product', 'NOUN'), ('better', 'ADV'), ('than', 'ADP'), (' ', 'SPACE'), ('most', 'ADV')]\n"
          ]
        }
      ]
    },
    {
      "cell_type": "code",
      "source": [
        "sample_review = \"I ordered Starbucks coffee from Amazon last week and it arrived in New York.\"\n",
        "doc = nlp(sample_review)\n",
        "entities = [(ent.text, ent.label_) for ent in doc.ents]\n",
        "print(\"Named Entities:\\n\", entities)\n"
      ],
      "metadata": {
        "colab": {
          "base_uri": "https://localhost:8080/"
        },
        "id": "c1xrJl1PHOi0",
        "outputId": "41390a46-5320-4b78-f56a-35e1c03bdb2b"
      },
      "execution_count": null,
      "outputs": [
        {
          "output_type": "stream",
          "name": "stdout",
          "text": [
            "Named Entities:\n",
            " [('Amazon', 'ORG'), ('last week', 'DATE'), ('New York', 'GPE')]\n"
          ]
        }
      ]
    }
  ]
}