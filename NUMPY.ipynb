{
  "nbformat": 4,
  "nbformat_minor": 0,
  "metadata": {
    "colab": {
      "provenance": [],
      "authorship_tag": "ABX9TyObs2P7CkBOS0IZh8nk+KMI",
      "include_colab_link": true
    },
    "kernelspec": {
      "name": "python3",
      "display_name": "Python 3"
    },
    "language_info": {
      "name": "python"
    }
  },
  "cells": [
    {
      "cell_type": "markdown",
      "metadata": {
        "id": "view-in-github",
        "colab_type": "text"
      },
      "source": [
        "<a href=\"https://colab.research.google.com/github/Thavatharani06/231801180_PODS/blob/main/NUMPY.ipynb\" target=\"_parent\"><img src=\"https://colab.research.google.com/assets/colab-badge.svg\" alt=\"Open In Colab\"/></a>"
      ]
    },
    {
      "cell_type": "code",
      "execution_count": null,
      "metadata": {
        "colab": {
          "base_uri": "https://localhost:8080/"
        },
        "id": "IBsW_inAXP1p",
        "outputId": "c231a26e-8f8f-46fd-bc53-5f1ccde0ace8"
      },
      "outputs": [
        {
          "output_type": "stream",
          "name": "stdout",
          "text": [
            "[8 9 6 2]\n"
          ]
        }
      ],
      "source": [
        "import numpy as np\n",
        "arr = np.array([8, 9, 6, 2])\n",
        "\n",
        "print(arr)"
      ]
    },
    {
      "cell_type": "code",
      "source": [
        "my_list = list(range(10))\n",
        "print(my_list)\n",
        "print(type(my_list))"
      ],
      "metadata": {
        "colab": {
          "base_uri": "https://localhost:8080/"
        },
        "id": "UxQoXMoSYEBC",
        "outputId": "3ad41753-928e-4e44-bd6e-bf5408b4296b"
      },
      "execution_count": null,
      "outputs": [
        {
          "output_type": "stream",
          "name": "stdout",
          "text": [
            "[0, 1, 2, 3, 4, 5, 6, 7, 8, 9]\n",
            "<class 'list'>\n"
          ]
        }
      ]
    },
    {
      "cell_type": "code",
      "source": [
        "import numpy as np\n",
        "import sys\n",
        "S= range(1000)\n",
        "print(\"Size of each element of list in bytes: \",sys.getsizeof(S))\n",
        "print(\"Size of the whole list in bytes: \",sys.getsizeof(S)*len(S))\n",
        "D= np.arange(1000)\n",
        "print(\"Size of each element of Numpy array in bytes: \",D.itemsize)\n",
        "print(\"Size of the whole Numpy array  in bytes: \",D.size*D.itemsize)"
      ],
      "metadata": {
        "colab": {
          "base_uri": "https://localhost:8080/"
        },
        "id": "Ahp1mmZxYaGA",
        "outputId": "9c51a994-120e-41c6-eaad-d3206f332751"
      },
      "execution_count": null,
      "outputs": [
        {
          "output_type": "stream",
          "name": "stdout",
          "text": [
            "Size of each element of list in bytes:  48\n",
            "Size of the whole list in bytes:  48000\n",
            "Size of each element of Numpy array in bytes:  8\n",
            "Size of the whole Numpy array  in bytes:  8000\n"
          ]
        }
      ]
    },
    {
      "cell_type": "code",
      "source": [
        "arr = np.array([1, 2, 3, 4, 5])\n",
        "print(arr)"
      ],
      "metadata": {
        "colab": {
          "base_uri": "https://localhost:8080/"
        },
        "id": "x8VSqSL1Z0zS",
        "outputId": "0754db31-3112-4f1c-d08e-b3dfb99b9de9"
      },
      "execution_count": null,
      "outputs": [
        {
          "output_type": "stream",
          "name": "stdout",
          "text": [
            "[1 2 3 4 5]\n"
          ]
        }
      ]
    },
    {
      "cell_type": "code",
      "source": [
        "arr = np.array([[[1, 2, 3], [4, 5, 6]], [[1, 2, 3], [4, 5, 6]]])\n",
        "print(arr)"
      ],
      "metadata": {
        "colab": {
          "base_uri": "https://localhost:8080/"
        },
        "id": "UpipHSMebFCE",
        "outputId": "3885c59c-176e-4189-a9d0-4b7491a0b07b"
      },
      "execution_count": null,
      "outputs": [
        {
          "output_type": "stream",
          "name": "stdout",
          "text": [
            "[[[1 2 3]\n",
            "  [4 5 6]]\n",
            "\n",
            " [[1 2 3]\n",
            "  [4 5 6]]]\n"
          ]
        }
      ]
    },
    {
      "cell_type": "code",
      "source": [
        "arr = np.array([1, 2, 3, 4], ndmin=5)\n",
        "print(arr)\n",
        "print('number of dimensions :', arr.ndim)"
      ],
      "metadata": {
        "colab": {
          "base_uri": "https://localhost:8080/"
        },
        "id": "_qUijUiBbJYo",
        "outputId": "4d2eadf5-5ad9-47d6-be97-9bb6b73c7978"
      },
      "execution_count": null,
      "outputs": [
        {
          "output_type": "stream",
          "name": "stdout",
          "text": [
            "[[[[[1 2 3 4]]]]]\n",
            "number of dimensions : 5\n"
          ]
        }
      ]
    },
    {
      "cell_type": "code",
      "source": [
        "data = np.array([[1.5, -0.1, 3], [0, -3, 6.5]])\n",
        "print(\"Shape= \",data.shape)\n",
        "print(\"Type= \",data.dtype)\n",
        "print(\"Data = \", data)\n",
        "print(\"\\nAns1 = \",data * 10)\n",
        "print(\"\\nAns2= \",data+data)"
      ],
      "metadata": {
        "colab": {
          "base_uri": "https://localhost:8080/"
        },
        "id": "xN-4Eg1QbRiI",
        "outputId": "500d6916-f940-4521-e01f-d7b33e3edb65"
      },
      "execution_count": null,
      "outputs": [
        {
          "output_type": "stream",
          "name": "stdout",
          "text": [
            "Shape=  (2, 3)\n",
            "Type=  float64\n",
            "Data =  [[ 1.5 -0.1  3. ]\n",
            " [ 0.  -3.   6.5]]\n",
            "\n",
            "Ans1 =  [[ 15.  -1.  30.]\n",
            " [  0. -30.  65.]]\n",
            "\n",
            "Ans2=  [[ 3.  -0.2  6. ]\n",
            " [ 0.  -6.  13. ]]\n"
          ]
        }
      ]
    },
    {
      "cell_type": "code",
      "source": [
        "my_list = [1, 2, 3, 4, 5]\n",
        "arr = np.array(my_list)\n",
        "print(type(arr))\n",
        "print(arr)\n",
        "print(\"\\n\", arr.dtype)"
      ],
      "metadata": {
        "colab": {
          "base_uri": "https://localhost:8080/"
        },
        "id": "axTv7holbTgB",
        "outputId": "25e5783f-b943-4f3b-c02a-603688c1e18a"
      },
      "execution_count": null,
      "outputs": [
        {
          "output_type": "stream",
          "name": "stdout",
          "text": [
            "<class 'numpy.ndarray'>\n",
            "[1 2 3 4 5]\n",
            "\n",
            " int64\n"
          ]
        }
      ]
    },
    {
      "cell_type": "code",
      "source": [
        "zeros_arr = np.zeros((5,2))\n",
        "eros_arr = np.zeros(5)\n",
        "print(zeros_arr)\n",
        "\n",
        "zeros_arr = np.zeros((2,3))\n",
        "print(zeros_arr)\n",
        "\n",
        "print(\"Data type of the array: \",zeros_arr.dtype)\n",
        "\n",
        "zeros_arr_int = np.zeros((3,3), dtype=np.int16)\n",
        "print(\"\\nArray of zeros with integer elements: \\n\",zeros_arr_int)"
      ],
      "metadata": {
        "colab": {
          "base_uri": "https://localhost:8080/"
        },
        "id": "-0rTXoazbyi7",
        "outputId": "6770825b-5ca1-433b-940e-d4b65c46aea0"
      },
      "execution_count": null,
      "outputs": [
        {
          "output_type": "stream",
          "name": "stdout",
          "text": [
            "[[0. 0.]\n",
            " [0. 0.]\n",
            " [0. 0.]\n",
            " [0. 0.]\n",
            " [0. 0.]]\n",
            "[[0. 0. 0.]\n",
            " [0. 0. 0.]]\n",
            "Data type of the array:  float64\n",
            "\n",
            "Array of zeros with integer elements: \n",
            " [[0 0 0]\n",
            " [0 0 0]\n",
            " [0 0 0]]\n"
          ]
        }
      ]
    },
    {
      "cell_type": "code",
      "source": [
        "ones_arr = np.ones(6)\n",
        "print(ones_arr)\n",
        "\n",
        "ones_arr = np.ones((3,2,4))\n",
        "print(\"\\n\",ones_arr)\n",
        "print(\"\\n ndim= \",ones_arr.ndim)\n",
        "\n",
        "print(\"\\nData type of the array: \",ones_arr.dtype)\n",
        "\n",
        "ones_arr_int = np.ones((2,2), dtype=np.int16)\n",
        "print(\"\\nArray of ones with integer elements: \\n\",ones_arr_int)"
      ],
      "metadata": {
        "colab": {
          "base_uri": "https://localhost:8080/"
        },
        "id": "2LcNZ9VYb705",
        "outputId": "3285adc4-bf57-489a-ad47-5ad0722bd8c6"
      },
      "execution_count": null,
      "outputs": [
        {
          "output_type": "stream",
          "name": "stdout",
          "text": [
            "[1. 1. 1. 1. 1. 1.]\n",
            "\n",
            " [[[1. 1. 1. 1.]\n",
            "  [1. 1. 1. 1.]]\n",
            "\n",
            " [[1. 1. 1. 1.]\n",
            "  [1. 1. 1. 1.]]\n",
            "\n",
            " [[1. 1. 1. 1.]\n",
            "  [1. 1. 1. 1.]]]\n",
            "\n",
            " ndim=  3\n",
            "\n",
            "Data type of the array:  float64\n",
            "\n",
            "Array of ones with integer elements: \n",
            " [[1 1]\n",
            " [1 1]]\n"
          ]
        }
      ]
    },
    {
      "cell_type": "code",
      "source": [
        "empty_arr = np.empty((2,3))\n",
        "print(empty_arr)"
      ],
      "metadata": {
        "colab": {
          "base_uri": "https://localhost:8080/"
        },
        "id": "8oibJ0dxcLgQ",
        "outputId": "09979ae5-f2a2-46f8-d403-abd23479da4c"
      },
      "execution_count": null,
      "outputs": [
        {
          "output_type": "stream",
          "name": "stdout",
          "text": [
            "[[0. 0. 0.]\n",
            " [0. 0. 0.]]\n"
          ]
        }
      ]
    },
    {
      "cell_type": "code",
      "source": [
        "empty_arr = np.empty((2,3))\n",
        "print(empty_arr)\n",
        "print(\"\\nData type of the array: \",empty_arr.dtype)"
      ],
      "metadata": {
        "colab": {
          "base_uri": "https://localhost:8080/"
        },
        "id": "5bfFbK7RcV0Y",
        "outputId": "c8ecdcff-3b76-42c2-9124-783a9f0e30f6"
      },
      "execution_count": null,
      "outputs": [
        {
          "output_type": "stream",
          "name": "stdout",
          "text": [
            "[[0. 0. 0.]\n",
            " [0. 0. 0.]]\n",
            "\n",
            "Data type of the array:  float64\n"
          ]
        }
      ]
    },
    {
      "cell_type": "code",
      "source": [
        "identity_matrix = np.eye(3)\n",
        "print(identity_matrix)\n",
        "\n",
        "identity_matrix = np.eye(4)\n",
        "print(\"\\n\",identity_matrix)"
      ],
      "metadata": {
        "colab": {
          "base_uri": "https://localhost:8080/"
        },
        "id": "ehcWPBuucbYQ",
        "outputId": "254496f0-c4fa-4825-af11-5614aa2fef91"
      },
      "execution_count": null,
      "outputs": [
        {
          "output_type": "stream",
          "name": "stdout",
          "text": [
            "[[1. 0. 0.]\n",
            " [0. 1. 0.]\n",
            " [0. 0. 1.]]\n",
            "\n",
            " [[1. 0. 0. 0.]\n",
            " [0. 1. 0. 0.]\n",
            " [0. 0. 1. 0.]\n",
            " [0. 0. 0. 1.]]\n"
          ]
        }
      ]
    },
    {
      "cell_type": "code",
      "source": [
        "arr = np.array([1, 2, 3])\n",
        "print(\"Before converting: \", arr, arr.dtype)\n",
        "new_arr = arr.astype(np.float64)\n",
        "print(\"After converting: \", new_arr, new_arr.dtype)"
      ],
      "metadata": {
        "colab": {
          "base_uri": "https://localhost:8080/"
        },
        "id": "geK6NldNciUQ",
        "outputId": "40c70e51-44ac-4bb0-ef37-5ca6a3c2ec2b"
      },
      "execution_count": null,
      "outputs": [
        {
          "output_type": "stream",
          "name": "stdout",
          "text": [
            "Before converting:  [1 2 3] int64\n",
            "After converting:  [1. 2. 3.] float64\n"
          ]
        }
      ]
    },
    {
      "cell_type": "code",
      "source": [
        "arr = np.array(['1.1', '2.2', '-3.3'])\n",
        "print(\"Before converting: \", arr, arr.dtype)\n",
        "new_arr = arr.astype('f')\n",
        "print(\"After converting: \", new_arr, new_arr.dtype)"
      ],
      "metadata": {
        "colab": {
          "base_uri": "https://localhost:8080/"
        },
        "id": "19iBAeLdc9QZ",
        "outputId": "070e6cb8-4508-4256-ac98-8e5ba1b49c74"
      },
      "execution_count": null,
      "outputs": [
        {
          "output_type": "stream",
          "name": "stdout",
          "text": [
            "Before converting:  ['1.1' '2.2' '-3.3'] <U4\n",
            "After converting:  [ 1.1  2.2 -3.3] float32\n"
          ]
        }
      ]
    },
    {
      "cell_type": "code",
      "source": [
        "arr1 = np.arange(10)\n",
        "arr2 = np.random.randn(10)\n",
        "print(\"array 1\\n\",arr1, arr1.dtype)\n",
        "print(\"Array 2 \\n\",arr2, arr2.dtype)\n",
        "new_arr = arr1.astype(arr2.dtype)\n",
        "print(\"New Array \\n\",new_arr, new_arr.dtype)"
      ],
      "metadata": {
        "colab": {
          "base_uri": "https://localhost:8080/"
        },
        "id": "zaWhg2urd3vQ",
        "outputId": "8f4f8aec-8c12-4b1c-8454-526ea13ee320"
      },
      "execution_count": null,
      "outputs": [
        {
          "output_type": "stream",
          "name": "stdout",
          "text": [
            "array 1\n",
            " [0 1 2 3 4 5 6 7 8 9] int64\n",
            "Array 2 \n",
            " [ 0.14473238  0.20795383 -1.19809951  1.72246819 -0.09100484  0.22698825\n",
            "  1.01578953 -0.22448433  0.80241045 -1.54971263] float64\n",
            "New Array \n",
            " [0. 1. 2. 3. 4. 5. 6. 7. 8. 9.] float64\n"
          ]
        }
      ]
    },
    {
      "cell_type": "code",
      "source": [
        "import numpy as np\n",
        "a = np.array([1., 2., 3., 4.])\n",
        "b = np.array([5., 6., 7., 8.])\n",
        "print(a + b) # [ 6 8 10 12]\n",
        "print(a - b) # [-4 -4 -4 -4]\n",
        "print(a * b) # [ 5 12 21 32]\n",
        "print(a / b) # [0.2 0.33333333 0.42857143 0.5 ]\n",
        "print(a ** b) # [ 1 64 2187 65536]"
      ],
      "metadata": {
        "colab": {
          "base_uri": "https://localhost:8080/"
        },
        "id": "zMRTjfMLd_6Y",
        "outputId": "36dcfbc0-b4fc-4a42-84bf-e4ffbd9ab274"
      },
      "execution_count": null,
      "outputs": [
        {
          "output_type": "stream",
          "name": "stdout",
          "text": [
            "[ 6.  8. 10. 12.]\n",
            "[-4. -4. -4. -4.]\n",
            "[ 5. 12. 21. 32.]\n",
            "[0.2        0.33333333 0.42857143 0.5       ]\n",
            "[1.0000e+00 6.4000e+01 2.1870e+03 6.5536e+04]\n"
          ]
        }
      ]
    },
    {
      "cell_type": "code",
      "source": [
        "a = np.array([1., 2., 3., 4.])\n",
        "print(a + 1) # [2. 3. 4. 5.]\n",
        "print(a - 1) # [0. 1. 2. 3.]\n",
        "print(a * 2) # [2. 4. 6. 8.]\n",
        "print(a / 2) # [0.5 1. 1.5 2. ]\n",
        "print(a ** 2) # [ 1. 4. 9. 16.]\n",
        "print(1/a)"
      ],
      "metadata": {
        "colab": {
          "base_uri": "https://localhost:8080/"
        },
        "id": "m-A6hytEeEDK",
        "outputId": "94ba827b-ac1d-4b02-8225-2e2db88fa902"
      },
      "execution_count": null,
      "outputs": [
        {
          "output_type": "stream",
          "name": "stdout",
          "text": [
            "[2. 3. 4. 5.]\n",
            "[0. 1. 2. 3.]\n",
            "[2. 4. 6. 8.]\n",
            "[0.5 1.  1.5 2. ]\n",
            "[ 1.  4.  9. 16.]\n",
            "[1.         0.5        0.33333333 0.25      ]\n"
          ]
        }
      ]
    },
    {
      "cell_type": "code",
      "source": [],
      "metadata": {
        "id": "kmgvbT6ZeLii"
      },
      "execution_count": null,
      "outputs": []
    }
  ]
}